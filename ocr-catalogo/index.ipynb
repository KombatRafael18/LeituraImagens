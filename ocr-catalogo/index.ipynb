{
 "cells": [
  {
   "cell_type": "markdown",
   "metadata": {},
   "source": [
    "TESTE - Extraindo texto de uma imagem usando tesseract"
   ]
  },
  {
   "cell_type": "code",
   "execution_count": 1,
   "metadata": {},
   "outputs": [
    {
     "name": "stdout",
     "output_type": "stream",
     "text": [
      "Texto extraído: 0051405701\n",
      "R$ 38,17\n",
      "\n",
      "\n"
     ]
    }
   ],
   "source": [
    "import os\n",
    "import re\n",
    "from PIL import Image\n",
    "import pytesseract\n",
    "\n",
    "# Caminho do executável do Tesseract (necessário no Windows)\n",
    "pytesseract.pytesseract.tesseract_cmd = r\"C:\\Program Files\\Tesseract-OCR\\tesseract.exe\"\n",
    "\n",
    "imagem = Image.open(\"C:/Users/rafaf/Documents/Filigrana/ocr-catalogo/imagens/005.14057.jpg\")\n",
    "texto = pytesseract.image_to_string(imagem, lang=\"eng\")\n",
    "\n",
    "print(\"Texto extraído:\", texto)\n"
   ]
  },
  {
   "cell_type": "markdown",
   "metadata": {},
   "source": [
    "EXECUÇÃO - Extraindo texto de todas as imagens de uma pasta usando tesseract e tratando elas para um .csv"
   ]
  },
  {
   "cell_type": "code",
   "execution_count": null,
   "metadata": {},
   "outputs": [
    {
     "name": "stdout",
     "output_type": "stream",
     "text": [
      "Resultados salvos em: resultadosT.csv\n"
     ]
    }
   ],
   "source": [
    "import os\n",
    "import re\n",
    "from PIL import Image\n",
    "import pytesseract\n",
    "import csv\n",
    "\n",
    "# 1. colocar imagens de uma categoria (ex: Brincos) na pasta imagens \n",
    "# 2. Mudar categoria (nome da pasta)\n",
    "# 3. Trocar o nome do Nmodelo\n",
    "\n",
    "# Configuração do caminho do Tesseract\n",
    "pytesseract.pytesseract.tesseract_cmd = r'C:\\Program Files\\Tesseract-OCR\\tesseract.exe'\n",
    "\n",
    "# Pasta das imagens\n",
    "pasta = \"./imagens\"\n",
    "extensoes = ('.png', '.jpg', 'jpeg')\n",
    "resultados = []\n",
    "\n",
    "# Função para processar o texto extraído e estruturar os dados\n",
    "def processar_texto(texto, arquivo):\n",
    "    linhas = texto.strip().split(\"\\n\")  # Quebrar por linha e remover espaços extras\n",
    "    linhas = [linha.strip() for linha in linhas if linha.strip()]  # Remover linhas vazias\n",
    "\n",
    "    if len(linhas) >= 2:\n",
    "        nomeIDcompleto = linhas[0]  # Primeira linha nomeID\n",
    "        preco = linhas[1] # Segunda linha como preço\n",
    "    else:\n",
    "        nomeIDcompleto = \"Desconhecido\"\n",
    "        preco = \"0.00\"\n",
    "\n",
    "    # Limpar o preço (removendo caracteres indesejados e deixando apenas números e vírgula)\n",
    "    preco = preco.replace(\"R$\", \"\").strip()  # Remove \"R$\"\n",
    "    preco = re.sub(r\"[^0-9,]\", \"\", preco)  # Mantém apenas números e vírgula   \n",
    "\n",
    "    # Se o preço estiver vazio, definir como \"0,00\"\n",
    "    if not preco:\n",
    "        preco = \"0,00\" \n",
    "\n",
    "    # Separar nomeID e tamanho se houver um ponto no nomeID\n",
    "    if \".\" in nomeIDcompleto:\n",
    "        partes = nomeIDcompleto.split(\".\")\n",
    "        nomeID = partes[0]  # Parte antes do ponto é o nomeID\n",
    "        tamanho = partes[1] if partes[1].isdigit() else \"\"  # Parte depois do ponto é o tamanho se for número\n",
    "    else:\n",
    "        nomeID = nomeIDcompleto\n",
    "        tamanho = \"\"    \n",
    "\n",
    "    # Definir Ntipo com base no final de nomeID\n",
    "    if nomeID.endswith(\"01\"):\n",
    "        Ntipo = \"\"\n",
    "    elif nomeID.endswith(\"66\"):\n",
    "        Ntipo = \"DISPONIVEL NA PRATA 925\"\n",
    "    elif nomeID.endswith(\"73\"):\n",
    "        Ntipo = \"DISPONIVEL NO RODIO\"\n",
    "    elif nomeID.endswith(\"45\"):\n",
    "        Ntipo = \"\"\n",
    "    elif nomeID.endswith(\"65\"):\n",
    "        Ntipo = \"\"\n",
    "    else:\n",
    "        Ntipo = \"N/A\"  # Caso o código não termine com os valores esperados\n",
    "\n",
    "    # Criar o nome completo\n",
    "    Nmodelo = \"GARGANTILHA\"\n",
    "    nome = f\"{Nmodelo} {Ntipo}\".strip()\n",
    "\n",
    "    sku = os.path.splitext(arquivo)[0]    \n",
    "\n",
    "    return {\n",
    "        \"Nome\": nome,\n",
    "        \"Categoria\": \"24 07 25\",\n",
    "        \"Variacao\": tamanho,\n",
    "        \"SKU\": sku,\n",
    "        \"Preco\": preco,\n",
    "        \"codigo\": nomeID\n",
    "    }\n",
    "\n",
    "# Processar cada imagem na pasta\n",
    "for arquivo in os.listdir(pasta):\n",
    "    if arquivo.lower().endswith(extensoes):\n",
    "        img = os.path.join(pasta, arquivo)\n",
    "        texto = pytesseract.image_to_string(img, lang=\"eng\")\n",
    "\n",
    "        dados_formatados = processar_texto(texto, arquivo)\n",
    "        resultados.append(dados_formatados)\n",
    "\n",
    "# Salvar os resultados em CSV\n",
    "csv_path = \"resultadosT.csv\"\n",
    "with open(csv_path, mode='w', newline='', encoding='utf-8') as file:\n",
    "    writer = csv.DictWriter(file, fieldnames=[\"Nome\", \"Categoria\", \"SKU\", \"Variacao\", \"Preco\", \"codigo\"], delimiter=';')\n",
    "    writer.writeheader()\n",
    "    writer.writerows(resultados)\n",
    "\n",
    "print(f\"Resultados salvos em: {csv_path}\")\n"
   ]
  },
  {
   "cell_type": "markdown",
   "metadata": {},
   "source": [
    "TESTE - Extraindo texto de uma imagem usando easyocr"
   ]
  },
  {
   "cell_type": "code",
   "execution_count": 33,
   "metadata": {},
   "outputs": [
    {
     "name": "stderr",
     "output_type": "stream",
     "text": [
      "Neither CUDA nor MPS are available - defaulting to CPU. Note: This module is much faster with a GPU.\n"
     ]
    },
    {
     "name": "stdout",
     "output_type": "stream",
     "text": [
      "Texto extraído: 0051144901 RS 39,73\n"
     ]
    }
   ],
   "source": [
    "\n",
    "import easyocr\n",
    "\n",
    "\n",
    "# Inicializa o leitor do EasyOCR com o idioma desejado\n",
    "reader = easyocr.Reader(['en'],gpu=True)  # 'en' para inglês\n",
    "\n",
    "# Caminho para a imagem\n",
    "imagem_caminho = \"./imagens/005.11449.jpg\"\n",
    "\n",
    "# Processar a imagem\n",
    "texto = reader.readtext(imagem_caminho, detail=0)  # detail=0 retorna apenas o texto\n",
    "\n",
    "# Exibir o texto extraído\n",
    "print(\"Texto extraído:\", \" \".join(texto))\n"
   ]
  },
  {
   "cell_type": "markdown",
   "metadata": {},
   "source": [
    "EXECUÇÃO - Extraindo texto de todas as imagens de uma pasta usando easyocr e tratando elas para um .csv"
   ]
  },
  {
   "cell_type": "code",
   "execution_count": 1,
   "metadata": {},
   "outputs": [
    {
     "name": "stderr",
     "output_type": "stream",
     "text": [
      "Neither CUDA nor MPS are available - defaulting to CPU. Note: This module is much faster with a GPU.\n"
     ]
    },
    {
     "name": "stdout",
     "output_type": "stream",
     "text": [
      "Resultados salvos em: resultadosE.csv\n"
     ]
    }
   ],
   "source": [
    "import os\n",
    "import re\n",
    "import csv\n",
    "import easyocr\n",
    "\n",
    "# Inicializa o leitor do EasyOCR\n",
    "reader = easyocr.Reader(['en'], gpu=True)  # 'en' para inglês\n",
    "\n",
    "# Pasta das imagens\n",
    "pasta = \"./imagens\"\n",
    "extensoes = ('.png', '.jpg', '.jpeg')\n",
    "resultados = []\n",
    "\n",
    "# Função para processar o texto extraído\n",
    "def processar_texto(texto, arquivo):\n",
    "    # Remover espaços extras e garantir que seja apenas um espaço entre os elementos\n",
    "    texto = \" \".join(texto.split())\n",
    "\n",
    "    # Expressão regular para encontrar o primeiro conjunto de números (código)\n",
    "    match_codigo = re.search(r\"\\b\\d+\\b\", texto)\n",
    "    codigo = match_codigo.group(0) if match_codigo else \"Desconhecido\"\n",
    "\n",
    "    # Expressão regular para encontrar o último número no formato de preço (ex: 39,73)\n",
    "    match_preco = re.findall(r\"\\d{1,3}(?:,\\d{2})?\", texto)  # Busca números que podem ter vírgula\n",
    "    preco = match_preco[-1] if match_preco else \"0,00\"\n",
    "\n",
    "    # Criar nome e categoria baseados no código\n",
    "    if codigo.endswith(\"01\"):\n",
    "        Ntipo = \"\"\n",
    "    elif codigo.endswith(\"66\"):\n",
    "        Ntipo = \"DISPONIVEL NA PRATA 925\"\n",
    "    elif codigo.endswith(\"73\"):\n",
    "        Ntipo = \"DISPONIVEL NO RODIO\"\n",
    "    elif codigo.endswith(\"45\"):\n",
    "        Ntipo = \"\"\n",
    "    elif codigo.endswith(\"65\"):\n",
    "        Ntipo = \"\"\n",
    "    else:\n",
    "        Ntipo = \"N/A\"\n",
    "\n",
    "    nome = f\"PULSEIRA {Ntipo}\".strip()\n",
    "    sku = os.path.splitext(arquivo)[0]\n",
    "\n",
    "    return {\n",
    "        \"Nome\": nome,\n",
    "        \"Categoria\": \"03 25\",\n",
    "        \"Variacao\": \"\",\n",
    "        \"SKU\": sku,\n",
    "        \"Preco\": preco,\n",
    "        \"codigo\": codigo\n",
    "    }\n",
    "\n",
    "# Processar cada imagem na pasta\n",
    "for arquivo in os.listdir(pasta):\n",
    "    if arquivo.lower().endswith(extensoes):\n",
    "        img = os.path.join(pasta, arquivo)\n",
    "        \n",
    "        # Extrai texto com EasyOCR\n",
    "        texto_easyocr = \" \".join(reader.readtext(img, detail=0))\n",
    "\n",
    "        # Processa os dados extraídos\n",
    "        dados_formatados = processar_texto(texto_easyocr, arquivo)\n",
    "        resultados.append(dados_formatados)\n",
    "\n",
    "# Salvar os resultados em CSV\n",
    "csv_path = \"resultadosE.csv\"\n",
    "with open(csv_path, mode='w', newline='', encoding='utf-8') as file:\n",
    "    writer = csv.DictWriter(file, fieldnames=[\"Nome\", \"Categoria\", \"SKU\", \"Variacao\", \"Preco\", \"codigo\"], delimiter=';')\n",
    "    writer.writeheader()\n",
    "    writer.writerows(resultados)\n",
    "\n",
    "print(f\"Resultados salvos em: {csv_path}\")\n"
   ]
  }
 ],
 "metadata": {
  "kernelspec": {
   "display_name": "Python 3",
   "language": "python",
   "name": "python3"
  },
  "language_info": {
   "codemirror_mode": {
    "name": "ipython",
    "version": 3
   },
   "file_extension": ".py",
   "mimetype": "text/x-python",
   "name": "python",
   "nbconvert_exporter": "python",
   "pygments_lexer": "ipython3",
   "version": "3.8.10"
  }
 },
 "nbformat": 4,
 "nbformat_minor": 2
}
